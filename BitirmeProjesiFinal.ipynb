{
 "cells": [
  {
   "cell_type": "code",
   "execution_count": 7,
   "id": "8a4429aa",
   "metadata": {},
   "outputs": [
    {
     "name": "stderr",
     "output_type": "stream",
     "text": [
      "Requested API level 33 is larger than maximum we have, returning API level 28 instead.\n",
      "Requested API level 33 is larger than maximum we have, returning API level 28 instead.\n",
      "Requested API level 33 is larger than maximum we have, returning API level 28 instead.\n",
      "Requested API level 33 is larger than maximum we have, returning API level 28 instead.\n",
      "Requested API level 31 is larger than maximum we have, returning API level 28 instead.\n",
      "Requested API level 31 is larger than maximum we have, returning API level 28 instead.\n",
      "Requested API level 33 is larger than maximum we have, returning API level 28 instead.\n",
      "Requested API level 33 is larger than maximum we have, returning API level 28 instead.\n",
      "Requested API level 32 is larger than maximum we have, returning API level 28 instead.\n",
      "Requested API level 32 is larger than maximum we have, returning API level 28 instead.\n",
      "Requested API level 33 is larger than maximum we have, returning API level 28 instead.\n",
      "Requested API level 33 is larger than maximum we have, returning API level 28 instead.\n",
      "Requested API level 32 is larger than maximum we have, returning API level 28 instead.\n",
      "Requested API level 32 is larger than maximum we have, returning API level 28 instead.\n",
      "Requested API level 30 is larger than maximum we have, returning API level 28 instead.\n",
      "Requested API level 30 is larger than maximum we have, returning API level 28 instead.\n",
      "Requested API level 33 is larger than maximum we have, returning API level 28 instead.\n",
      "Requested API level 33 is larger than maximum we have, returning API level 28 instead.\n",
      "Requested API level 30 is larger than maximum we have, returning API level 28 instead.\n",
      "Requested API level 30 is larger than maximum we have, returning API level 28 instead.\n",
      "Requested API level 33 is larger than maximum we have, returning API level 28 instead.\n",
      "Requested API level 33 is larger than maximum we have, returning API level 28 instead.\n",
      "Requested API level 33 is larger than maximum we have, returning API level 28 instead.\n",
      "Requested API level 33 is larger than maximum we have, returning API level 28 instead.\n",
      "Requested API level 33 is larger than maximum we have, returning API level 28 instead.\n",
      "Requested API level 33 is larger than maximum we have, returning API level 28 instead.\n",
      "Requested API level 31 is larger than maximum we have, returning API level 28 instead.\n",
      "Requested API level 31 is larger than maximum we have, returning API level 28 instead.\n",
      "Requested API level 31 is larger than maximum we have, returning API level 28 instead.\n",
      "Requested API level 31 is larger than maximum we have, returning API level 28 instead.\n",
      "Requested API level 33 is larger than maximum we have, returning API level 28 instead.\n",
      "Requested API level 33 is larger than maximum we have, returning API level 28 instead.\n",
      "Requested API level 30 is larger than maximum we have, returning API level 28 instead.\n",
      "Requested API level 30 is larger than maximum we have, returning API level 28 instead.\n",
      "Requested API level 33 is larger than maximum we have, returning API level 28 instead.\n",
      "Requested API level 33 is larger than maximum we have, returning API level 28 instead.\n",
      "Requested API level 33 is larger than maximum we have, returning API level 28 instead.\n",
      "Requested API level 33 is larger than maximum we have, returning API level 28 instead.\n",
      "Requested API level 33 is larger than maximum we have, returning API level 28 instead.\n",
      "Requested API level 33 is larger than maximum we have, returning API level 28 instead.\n",
      "Requested API level 32 is larger than maximum we have, returning API level 28 instead.\n",
      "Requested API level 32 is larger than maximum we have, returning API level 28 instead.\n",
      "Requested API level 31 is larger than maximum we have, returning API level 28 instead.\n",
      "Requested API level 31 is larger than maximum we have, returning API level 28 instead.\n",
      "Requested API level 33 is larger than maximum we have, returning API level 28 instead.\n",
      "Requested API level 33 is larger than maximum we have, returning API level 28 instead.\n",
      "Requested API level 30 is larger than maximum we have, returning API level 28 instead.\n",
      "Requested API level 30 is larger than maximum we have, returning API level 28 instead.\n",
      "Requested API level 32 is larger than maximum we have, returning API level 28 instead.\n",
      "Requested API level 32 is larger than maximum we have, returning API level 28 instead.\n",
      "Requested API level 33 is larger than maximum we have, returning API level 28 instead.\n",
      "Requested API level 33 is larger than maximum we have, returning API level 28 instead.\n",
      "Requested API level 31 is larger than maximum we have, returning API level 28 instead.\n",
      "Requested API level 31 is larger than maximum we have, returning API level 28 instead.\n",
      "Requested API level 33 is larger than maximum we have, returning API level 28 instead.\n",
      "Requested API level 33 is larger than maximum we have, returning API level 28 instead.\n",
      "Requested API level 33 is larger than maximum we have, returning API level 28 instead.\n",
      "Requested API level 33 is larger than maximum we have, returning API level 28 instead.\n",
      "Requested API level 33 is larger than maximum we have, returning API level 28 instead.\n",
      "Requested API level 33 is larger than maximum we have, returning API level 28 instead.\n",
      "Requested API level 33 is larger than maximum we have, returning API level 28 instead.\n",
      "Requested API level 33 is larger than maximum we have, returning API level 28 instead.\n",
      "Requested API level 33 is larger than maximum we have, returning API level 28 instead.\n",
      "Requested API level 33 is larger than maximum we have, returning API level 28 instead.\n",
      "Requested API level 33 is larger than maximum we have, returning API level 28 instead.\n",
      "Requested API level 33 is larger than maximum we have, returning API level 28 instead.\n",
      "Requested API level 33 is larger than maximum we have, returning API level 28 instead.\n",
      "Requested API level 33 is larger than maximum we have, returning API level 28 instead.\n",
      "Requested API level 33 is larger than maximum we have, returning API level 28 instead.\n",
      "Requested API level 33 is larger than maximum we have, returning API level 28 instead.\n",
      "Requested API level 33 is larger than maximum we have, returning API level 28 instead.\n",
      "Requested API level 33 is larger than maximum we have, returning API level 28 instead.\n",
      "Requested API level 33 is larger than maximum we have, returning API level 28 instead.\n",
      "Requested API level 33 is larger than maximum we have, returning API level 28 instead.\n",
      "Requested API level 33 is larger than maximum we have, returning API level 28 instead.\n",
      "Requested API level 33 is larger than maximum we have, returning API level 28 instead.\n",
      "Requested API level 33 is larger than maximum we have, returning API level 28 instead.\n",
      "Requested API level 33 is larger than maximum we have, returning API level 28 instead.\n",
      "Requested API level 33 is larger than maximum we have, returning API level 28 instead.\n",
      "Requested API level 33 is larger than maximum we have, returning API level 28 instead.\n",
      "Requested API level 33 is larger than maximum we have, returning API level 28 instead.\n",
      "Requested API level 33 is larger than maximum we have, returning API level 28 instead.\n",
      "Requested API level 33 is larger than maximum we have, returning API level 28 instead.\n",
      "Requested API level 33 is larger than maximum we have, returning API level 28 instead.\n",
      "Requested API level 31 is larger than maximum we have, returning API level 28 instead.\n",
      "Requested API level 31 is larger than maximum we have, returning API level 28 instead.\n",
      "Requested API level 29 is larger than maximum we have, returning API level 28 instead.\n",
      "Requested API level 29 is larger than maximum we have, returning API level 28 instead.\n",
      "Requested API level 29 is larger than maximum we have, returning API level 28 instead.\n",
      "Requested API level 29 is larger than maximum we have, returning API level 28 instead.\n",
      "Requested API level 29 is larger than maximum we have, returning API level 28 instead.\n",
      "Requested API level 29 is larger than maximum we have, returning API level 28 instead.\n",
      "Requested API level 30 is larger than maximum we have, returning API level 28 instead.\n",
      "Requested API level 30 is larger than maximum we have, returning API level 28 instead.\n",
      "Requested API level 33 is larger than maximum we have, returning API level 28 instead.\n"
     ]
    },
    {
     "name": "stderr",
     "output_type": "stream",
     "text": [
      "Requested API level 33 is larger than maximum we have, returning API level 28 instead.\n",
      "Requested API level 33 is larger than maximum we have, returning API level 28 instead.\n",
      "Requested API level 33 is larger than maximum we have, returning API level 28 instead.\n",
      "Requested API level 33 is larger than maximum we have, returning API level 28 instead.\n",
      "Requested API level 33 is larger than maximum we have, returning API level 28 instead.\n",
      "Requested API level 33 is larger than maximum we have, returning API level 28 instead.\n",
      "Requested API level 33 is larger than maximum we have, returning API level 28 instead.\n",
      "Requested API level 33 is larger than maximum we have, returning API level 28 instead.\n",
      "Requested API level 33 is larger than maximum we have, returning API level 28 instead.\n",
      "Requested API level 33 is larger than maximum we have, returning API level 28 instead.\n",
      "Requested API level 33 is larger than maximum we have, returning API level 28 instead.\n",
      "Requested API level 29 is larger than maximum we have, returning API level 28 instead.\n",
      "Requested API level 29 is larger than maximum we have, returning API level 28 instead.\n",
      "Requested API level 33 is larger than maximum we have, returning API level 28 instead.\n",
      "Requested API level 33 is larger than maximum we have, returning API level 28 instead.\n",
      "Requested API level 29 is larger than maximum we have, returning API level 28 instead.\n",
      "Requested API level 29 is larger than maximum we have, returning API level 28 instead.\n",
      "Requested API level 33 is larger than maximum we have, returning API level 28 instead.\n",
      "Requested API level 33 is larger than maximum we have, returning API level 28 instead.\n",
      "Requested API level 30 is larger than maximum we have, returning API level 28 instead.\n",
      "Requested API level 30 is larger than maximum we have, returning API level 28 instead.\n",
      "Requested API level 33 is larger than maximum we have, returning API level 28 instead.\n",
      "Requested API level 33 is larger than maximum we have, returning API level 28 instead.\n",
      "Requested API level 33 is larger than maximum we have, returning API level 28 instead.\n",
      "Requested API level 33 is larger than maximum we have, returning API level 28 instead.\n",
      "Requested API level 29 is larger than maximum we have, returning API level 28 instead.\n",
      "Requested API level 29 is larger than maximum we have, returning API level 28 instead.\n",
      "Requested API level 32 is larger than maximum we have, returning API level 28 instead.\n",
      "Requested API level 32 is larger than maximum we have, returning API level 28 instead.\n",
      "Requested API level 33 is larger than maximum we have, returning API level 28 instead.\n",
      "Requested API level 33 is larger than maximum we have, returning API level 28 instead.\n",
      "Requested API level 33 is larger than maximum we have, returning API level 28 instead.\n",
      "Requested API level 33 is larger than maximum we have, returning API level 28 instead.\n",
      "Requested API level 33 is larger than maximum we have, returning API level 28 instead.\n",
      "Requested API level 33 is larger than maximum we have, returning API level 28 instead.\n",
      "Requested API level 33 is larger than maximum we have, returning API level 28 instead.\n",
      "Requested API level 33 is larger than maximum we have, returning API level 28 instead.\n",
      "Requested API level 30 is larger than maximum we have, returning API level 28 instead.\n",
      "Requested API level 30 is larger than maximum we have, returning API level 28 instead.\n",
      "Requested API level 32 is larger than maximum we have, returning API level 28 instead.\n",
      "Requested API level 32 is larger than maximum we have, returning API level 28 instead.\n",
      "Requested API level 29 is larger than maximum we have, returning API level 28 instead.\n",
      "Requested API level 29 is larger than maximum we have, returning API level 28 instead.\n",
      "Requested API level 33 is larger than maximum we have, returning API level 28 instead.\n",
      "Requested API level 33 is larger than maximum we have, returning API level 28 instead.\n",
      "Requested API level 31 is larger than maximum we have, returning API level 28 instead.\n",
      "Requested API level 31 is larger than maximum we have, returning API level 28 instead.\n",
      "Requested API level 33 is larger than maximum we have, returning API level 28 instead.\n",
      "Requested API level 33 is larger than maximum we have, returning API level 28 instead.\n",
      "Requested API level 33 is larger than maximum we have, returning API level 28 instead.\n",
      "Requested API level 33 is larger than maximum we have, returning API level 28 instead.\n",
      "Requested API level 32 is larger than maximum we have, returning API level 28 instead.\n",
      "Requested API level 32 is larger than maximum we have, returning API level 28 instead.\n",
      "Requested API level 31 is larger than maximum we have, returning API level 28 instead.\n",
      "Requested API level 31 is larger than maximum we have, returning API level 28 instead.\n",
      "Requested API level 33 is larger than maximum we have, returning API level 28 instead.\n",
      "Requested API level 33 is larger than maximum we have, returning API level 28 instead.\n",
      "Requested API level 33 is larger than maximum we have, returning API level 28 instead.\n",
      "Requested API level 33 is larger than maximum we have, returning API level 28 instead.\n",
      "Requested API level 33 is larger than maximum we have, returning API level 28 instead.\n",
      "Requested API level 33 is larger than maximum we have, returning API level 28 instead.\n",
      "Requested API level 33 is larger than maximum we have, returning API level 28 instead.\n",
      "Requested API level 33 is larger than maximum we have, returning API level 28 instead.\n",
      "Requested API level 33 is larger than maximum we have, returning API level 28 instead.\n",
      "Requested API level 33 is larger than maximum we have, returning API level 28 instead.\n"
     ]
    },
    {
     "data": {
      "text/plain": [
       "SVC(C=1.0, cache_size=200, class_weight=None, coef0=0.0,\n",
       "    decision_function_shape='ovr', degree=3, gamma='auto', kernel='rbf',\n",
       "    max_iter=-1, probability=False, random_state=None, shrinking=True,\n",
       "    tol=0.001, verbose=False)"
      ]
     },
     "execution_count": 7,
     "metadata": {},
     "output_type": "execute_result"
    }
   ],
   "source": [
    "import os\n",
    "import glob\n",
    "import numpy as np\n",
    "from sklearn import svm\n",
    "from androguard.core.bytecodes.apk import APK\n",
    "from androguard.core.bytecodes.dvm import DalvikVMFormat\n",
    "import re\n",
    "\n",
    "# Veri seti klasör yolu\n",
    "dataset_path = 'C:\\\\Users\\hakan\\\\Desktop\\\\apks\\\\ALL'\n",
    "\n",
    "# APK dosyalarında kod karıştırma tespiti için gerekli adımlar\n",
    "def detect_code_obfuscation(apk_file):\n",
    "    apk = APK(apk_file) # APK nın dosya yolunu vererek APK nesnesi oluşturulur\n",
    "    count = 0 # Kontrol değişkeni\n",
    "    for dex in apk.get_all_dex(): # class.dex dosyası içerisinden dosyalara ulaşma\n",
    "        vm = DalvikVMFormat(dex)\n",
    "        for cls in vm.get_classes(): # tüm dosyaların dosya yolunu alma\n",
    "            class_name = cls.get_name()\n",
    "            #print(cls)\n",
    "            if re.search(r'/[a-z];$', class_name): # class isimlerine göre kontrol etme\n",
    "                return True\n",
    "    return False\n",
    "\n",
    "\n",
    "# Veri setinden özellikleri çıkarma\n",
    "def extract_features(dataset_path):\n",
    "    apk_files = glob.glob(os.path.join(dataset_path, '*.apk'))\n",
    "    X = []\n",
    "    y = []\n",
    "    for apk_file in apk_files:\n",
    "        apk = APK(apk_file)\n",
    "        features = []\n",
    "        # Kod karıştırma tespiti\n",
    "        is_obfuscated = detect_code_obfuscation(apk_file)\n",
    "        if is_obfuscated:\n",
    "            features.append(1)  # Kod karıştırma var\n",
    "        else:\n",
    "            features.append(0)  # Kod karıştırma yok\n",
    "        X.append(features)\n",
    "        y.append(is_obfuscated)\n",
    "    return np.array(X), np.array(y)\n",
    "# Veri setini yükleme\n",
    "X, y = extract_features(dataset_path)\n",
    "# Veri setini eğitim ve test verilerine ayırma\n",
    "split_ratio = 0.8\n",
    "split_index = int(split_ratio * len(X))\n",
    "X_train = X[:split_index]\n",
    "y_train = y[:split_index]\n",
    "X_test = X[split_index:]\n",
    "y_test = y[split_index:]\n",
    "# SVM modelini eğitme\n",
    "svm_model = svm.SVC(gamma = \"auto\")\n",
    "svm_model.fit(X_train, y_train)\n",
    "\n",
    "# Girdi olarak verilen APK dosyasında kod karıştırma olup olmadığını tahmin etme\n"
   ]
  },
  {
   "cell_type": "code",
   "execution_count": 6,
   "id": "7fba3494",
   "metadata": {},
   "outputs": [
    {
     "name": "stderr",
     "output_type": "stream",
     "text": [
      "Requested API level 33 is larger than maximum we have, returning API level 28 instead.\n"
     ]
    },
    {
     "name": "stdout",
     "output_type": "stream",
     "text": [
      "APK dosyasında kod karıştırma tespit edildi.\n"
     ]
    }
   ],
   "source": [
    "apk_file_path = \"C:\\\\Users\\\\hakan\\\\Desktop\\\\apks\\\\com.starry.greenstash_25.apk\"\n",
    "features = []\n",
    "is_obfuscated = detect_code_obfuscation(apk_file_path)\n",
    "features.append(is_obfuscated)\n",
    "prediction = svm_model.predict([features])[0]\n",
    "if prediction:\n",
    "    print('APK dosyasında kod karıştırma tespit edildi.')\n",
    "else:\n",
    "    print('APK dosyasında kod karıştırma tespit edilmedi.')"
   ]
  },
  {
   "cell_type": "code",
   "execution_count": 8,
   "id": "0a744697",
   "metadata": {},
   "outputs": [
    {
     "name": "stderr",
     "output_type": "stream",
     "text": [
      "Requested API level 33 is larger than maximum we have, returning API level 28 instead.\n",
      "Requested API level 33 is larger than maximum we have, returning API level 28 instead.\n"
     ]
    },
    {
     "name": "stdout",
     "output_type": "stream",
     "text": [
      "1  evet\n"
     ]
    },
    {
     "name": "stderr",
     "output_type": "stream",
     "text": [
      "Requested API level 31 is larger than maximum we have, returning API level 28 instead.\n"
     ]
    },
    {
     "name": "stdout",
     "output_type": "stream",
     "text": [
      "2  evet\n"
     ]
    },
    {
     "name": "stderr",
     "output_type": "stream",
     "text": [
      "Requested API level 33 is larger than maximum we have, returning API level 28 instead.\n"
     ]
    },
    {
     "name": "stdout",
     "output_type": "stream",
     "text": [
      "3  hayır\n"
     ]
    },
    {
     "name": "stderr",
     "output_type": "stream",
     "text": [
      "Requested API level 32 is larger than maximum we have, returning API level 28 instead.\n"
     ]
    },
    {
     "name": "stdout",
     "output_type": "stream",
     "text": [
      "4  evet\n"
     ]
    },
    {
     "name": "stderr",
     "output_type": "stream",
     "text": [
      "Requested API level 33 is larger than maximum we have, returning API level 28 instead.\n"
     ]
    },
    {
     "name": "stdout",
     "output_type": "stream",
     "text": [
      "5  hayır\n",
      "6  evet\n"
     ]
    },
    {
     "name": "stderr",
     "output_type": "stream",
     "text": [
      "Requested API level 32 is larger than maximum we have, returning API level 28 instead.\n",
      "Requested API level 30 is larger than maximum we have, returning API level 28 instead.\n"
     ]
    },
    {
     "name": "stdout",
     "output_type": "stream",
     "text": [
      "7  hayır\n"
     ]
    },
    {
     "name": "stderr",
     "output_type": "stream",
     "text": [
      "Requested API level 33 is larger than maximum we have, returning API level 28 instead.\n"
     ]
    },
    {
     "name": "stdout",
     "output_type": "stream",
     "text": [
      "8  hayır\n"
     ]
    },
    {
     "name": "stderr",
     "output_type": "stream",
     "text": [
      "Requested API level 30 is larger than maximum we have, returning API level 28 instead.\n"
     ]
    },
    {
     "name": "stdout",
     "output_type": "stream",
     "text": [
      "9  evet\n"
     ]
    },
    {
     "name": "stderr",
     "output_type": "stream",
     "text": [
      "Requested API level 33 is larger than maximum we have, returning API level 28 instead.\n"
     ]
    },
    {
     "name": "stdout",
     "output_type": "stream",
     "text": [
      "10  hayır\n"
     ]
    },
    {
     "name": "stderr",
     "output_type": "stream",
     "text": [
      "Requested API level 33 is larger than maximum we have, returning API level 28 instead.\n"
     ]
    },
    {
     "name": "stdout",
     "output_type": "stream",
     "text": [
      "11  evet\n"
     ]
    },
    {
     "name": "stderr",
     "output_type": "stream",
     "text": [
      "Requested API level 33 is larger than maximum we have, returning API level 28 instead.\n"
     ]
    },
    {
     "name": "stdout",
     "output_type": "stream",
     "text": [
      "12  evet\n"
     ]
    },
    {
     "name": "stderr",
     "output_type": "stream",
     "text": [
      "Requested API level 31 is larger than maximum we have, returning API level 28 instead.\n"
     ]
    },
    {
     "name": "stdout",
     "output_type": "stream",
     "text": [
      "13  hayır\n"
     ]
    },
    {
     "name": "stderr",
     "output_type": "stream",
     "text": [
      "Requested API level 31 is larger than maximum we have, returning API level 28 instead.\n"
     ]
    },
    {
     "name": "stdout",
     "output_type": "stream",
     "text": [
      "14  hayır\n"
     ]
    },
    {
     "name": "stderr",
     "output_type": "stream",
     "text": [
      "Requested API level 33 is larger than maximum we have, returning API level 28 instead.\n"
     ]
    },
    {
     "name": "stdout",
     "output_type": "stream",
     "text": [
      "15  hayır\n"
     ]
    },
    {
     "name": "stderr",
     "output_type": "stream",
     "text": [
      "Requested API level 30 is larger than maximum we have, returning API level 28 instead.\n"
     ]
    },
    {
     "name": "stdout",
     "output_type": "stream",
     "text": [
      "16  hayır\n"
     ]
    },
    {
     "name": "stderr",
     "output_type": "stream",
     "text": [
      "Requested API level 33 is larger than maximum we have, returning API level 28 instead.\n"
     ]
    },
    {
     "name": "stdout",
     "output_type": "stream",
     "text": [
      "17  hayır\n"
     ]
    },
    {
     "name": "stderr",
     "output_type": "stream",
     "text": [
      "Requested API level 33 is larger than maximum we have, returning API level 28 instead.\n"
     ]
    },
    {
     "name": "stdout",
     "output_type": "stream",
     "text": [
      "18  evet\n"
     ]
    },
    {
     "name": "stderr",
     "output_type": "stream",
     "text": [
      "Requested API level 33 is larger than maximum we have, returning API level 28 instead.\n"
     ]
    },
    {
     "name": "stdout",
     "output_type": "stream",
     "text": [
      "19  hayır\n"
     ]
    },
    {
     "name": "stderr",
     "output_type": "stream",
     "text": [
      "Requested API level 32 is larger than maximum we have, returning API level 28 instead.\n"
     ]
    },
    {
     "name": "stdout",
     "output_type": "stream",
     "text": [
      "20  evet\n"
     ]
    },
    {
     "name": "stderr",
     "output_type": "stream",
     "text": [
      "Requested API level 31 is larger than maximum we have, returning API level 28 instead.\n"
     ]
    },
    {
     "name": "stdout",
     "output_type": "stream",
     "text": [
      "21  evet\n"
     ]
    },
    {
     "name": "stderr",
     "output_type": "stream",
     "text": [
      "Requested API level 33 is larger than maximum we have, returning API level 28 instead.\n"
     ]
    },
    {
     "name": "stdout",
     "output_type": "stream",
     "text": [
      "22  evet\n"
     ]
    },
    {
     "name": "stderr",
     "output_type": "stream",
     "text": [
      "Requested API level 30 is larger than maximum we have, returning API level 28 instead.\n"
     ]
    },
    {
     "name": "stdout",
     "output_type": "stream",
     "text": [
      "23  evet\n"
     ]
    },
    {
     "name": "stderr",
     "output_type": "stream",
     "text": [
      "Requested API level 32 is larger than maximum we have, returning API level 28 instead.\n"
     ]
    },
    {
     "name": "stdout",
     "output_type": "stream",
     "text": [
      "24  hayır\n"
     ]
    },
    {
     "name": "stderr",
     "output_type": "stream",
     "text": [
      "Requested API level 33 is larger than maximum we have, returning API level 28 instead.\n"
     ]
    },
    {
     "name": "stdout",
     "output_type": "stream",
     "text": [
      "25  hayır\n"
     ]
    },
    {
     "name": "stderr",
     "output_type": "stream",
     "text": [
      "Requested API level 31 is larger than maximum we have, returning API level 28 instead.\n"
     ]
    },
    {
     "name": "stdout",
     "output_type": "stream",
     "text": [
      "26  hayır\n",
      "27  hayır\n"
     ]
    },
    {
     "name": "stderr",
     "output_type": "stream",
     "text": [
      "Requested API level 33 is larger than maximum we have, returning API level 28 instead.\n"
     ]
    },
    {
     "ename": "KeyboardInterrupt",
     "evalue": "",
     "output_type": "error",
     "traceback": [
      "\u001b[1;31m---------------------------------------------------------------------------\u001b[0m",
      "\u001b[1;31mKeyboardInterrupt\u001b[0m                         Traceback (most recent call last)",
      "\u001b[1;32m<ipython-input-8-4397131ea6a0>\u001b[0m in \u001b[0;36m<module>\u001b[1;34m\u001b[0m\n\u001b[0;32m     32\u001b[0m             \u001b[0mprint\u001b[0m\u001b[1;33m(\u001b[0m\u001b[0mx\u001b[0m\u001b[1;33m,\u001b[0m \u001b[1;34m\" hayır\"\u001b[0m\u001b[1;33m)\u001b[0m\u001b[1;33m\u001b[0m\u001b[1;33m\u001b[0m\u001b[0m\n\u001b[0;32m     33\u001b[0m \u001b[1;33m\u001b[0m\u001b[0m\n\u001b[1;32m---> 34\u001b[1;33m \u001b[0mcheck_all_apks\u001b[0m\u001b[1;33m(\u001b[0m\u001b[0mapk_files\u001b[0m\u001b[1;33m)\u001b[0m\u001b[1;33m\u001b[0m\u001b[1;33m\u001b[0m\u001b[0m\n\u001b[0m",
      "\u001b[1;32m<ipython-input-8-4397131ea6a0>\u001b[0m in \u001b[0;36mcheck_all_apks\u001b[1;34m(apk_files)\u001b[0m\n\u001b[0;32m     21\u001b[0m         \u001b[0mx\u001b[0m \u001b[1;33m=\u001b[0m \u001b[0mx\u001b[0m \u001b[1;33m+\u001b[0m \u001b[1;36m1\u001b[0m\u001b[1;33m\u001b[0m\u001b[1;33m\u001b[0m\u001b[0m\n\u001b[0;32m     22\u001b[0m         \u001b[1;32mfor\u001b[0m \u001b[0mdex\u001b[0m \u001b[1;32min\u001b[0m \u001b[0mapk_file\u001b[0m\u001b[1;33m.\u001b[0m\u001b[0mget_all_dex\u001b[0m\u001b[1;33m(\u001b[0m\u001b[1;33m)\u001b[0m\u001b[1;33m:\u001b[0m\u001b[1;33m\u001b[0m\u001b[1;33m\u001b[0m\u001b[0m\n\u001b[1;32m---> 23\u001b[1;33m             \u001b[0mvm\u001b[0m \u001b[1;33m=\u001b[0m \u001b[0mDalvikVMFormat\u001b[0m\u001b[1;33m(\u001b[0m\u001b[0mdex\u001b[0m\u001b[1;33m)\u001b[0m\u001b[1;33m\u001b[0m\u001b[1;33m\u001b[0m\u001b[0m\n\u001b[0m\u001b[0;32m     24\u001b[0m             \u001b[1;32mfor\u001b[0m \u001b[0mcls\u001b[0m \u001b[1;32min\u001b[0m \u001b[0mvm\u001b[0m\u001b[1;33m.\u001b[0m\u001b[0mget_classes\u001b[0m\u001b[1;33m(\u001b[0m\u001b[1;33m)\u001b[0m\u001b[1;33m:\u001b[0m\u001b[1;33m\u001b[0m\u001b[1;33m\u001b[0m\u001b[0m\n\u001b[0;32m     25\u001b[0m                 \u001b[0mclass_name\u001b[0m \u001b[1;33m=\u001b[0m \u001b[0mcls\u001b[0m\u001b[1;33m.\u001b[0m\u001b[0mget_name\u001b[0m\u001b[1;33m(\u001b[0m\u001b[1;33m)\u001b[0m\u001b[1;33m\u001b[0m\u001b[1;33m\u001b[0m\u001b[0m\n",
      "\u001b[1;32m~\\anaconda3\\lib\\site-packages\\androguard\\core\\bytecodes\\dvm.py\u001b[0m in \u001b[0;36m__init__\u001b[1;34m(self, buff, decompiler, config, using_api)\u001b[0m\n\u001b[0;32m   7641\u001b[0m \u001b[1;33m\u001b[0m\u001b[0m\n\u001b[0;32m   7642\u001b[0m         \u001b[0mself\u001b[0m\u001b[1;33m.\u001b[0m\u001b[0m_preload\u001b[0m\u001b[1;33m(\u001b[0m\u001b[0mbuff\u001b[0m\u001b[1;33m)\u001b[0m\u001b[1;33m\u001b[0m\u001b[1;33m\u001b[0m\u001b[0m\n\u001b[1;32m-> 7643\u001b[1;33m         \u001b[0mself\u001b[0m\u001b[1;33m.\u001b[0m\u001b[0m_load\u001b[0m\u001b[1;33m(\u001b[0m\u001b[0mbuff\u001b[0m\u001b[1;33m)\u001b[0m\u001b[1;33m\u001b[0m\u001b[1;33m\u001b[0m\u001b[0m\n\u001b[0m\u001b[0;32m   7644\u001b[0m \u001b[1;33m\u001b[0m\u001b[0m\n\u001b[0;32m   7645\u001b[0m     \u001b[1;32mdef\u001b[0m \u001b[0m_preload\u001b[0m\u001b[1;33m(\u001b[0m\u001b[0mself\u001b[0m\u001b[1;33m,\u001b[0m \u001b[0mbuff\u001b[0m\u001b[1;33m)\u001b[0m\u001b[1;33m:\u001b[0m\u001b[1;33m\u001b[0m\u001b[1;33m\u001b[0m\u001b[0m\n",
      "\u001b[1;32m~\\anaconda3\\lib\\site-packages\\androguard\\core\\bytecodes\\dvm.py\u001b[0m in \u001b[0;36m_load\u001b[1;34m(self, buff)\u001b[0m\n\u001b[0;32m   7652\u001b[0m             \u001b[0mlog\u001b[0m\u001b[1;33m.\u001b[0m\u001b[0mwarning\u001b[0m\u001b[1;33m(\u001b[0m\u001b[1;34m\"no map list ...\"\u001b[0m\u001b[1;33m)\u001b[0m\u001b[1;33m\u001b[0m\u001b[1;33m\u001b[0m\u001b[0m\n\u001b[0;32m   7653\u001b[0m         \u001b[1;32melse\u001b[0m\u001b[1;33m:\u001b[0m\u001b[1;33m\u001b[0m\u001b[1;33m\u001b[0m\u001b[0m\n\u001b[1;32m-> 7654\u001b[1;33m             \u001b[0mself\u001b[0m\u001b[1;33m.\u001b[0m\u001b[0mmap_list\u001b[0m \u001b[1;33m=\u001b[0m \u001b[0mMapList\u001b[0m\u001b[1;33m(\u001b[0m\u001b[0mself\u001b[0m\u001b[1;33m.\u001b[0m\u001b[0mCM\u001b[0m\u001b[1;33m,\u001b[0m \u001b[0mself\u001b[0m\u001b[1;33m.\u001b[0m\u001b[0m__header\u001b[0m\u001b[1;33m.\u001b[0m\u001b[0mmap_off\u001b[0m\u001b[1;33m,\u001b[0m \u001b[0mself\u001b[0m\u001b[1;33m)\u001b[0m\u001b[1;33m\u001b[0m\u001b[1;33m\u001b[0m\u001b[0m\n\u001b[0m\u001b[0;32m   7655\u001b[0m \u001b[1;33m\u001b[0m\u001b[0m\n\u001b[0;32m   7656\u001b[0m             \u001b[0mself\u001b[0m\u001b[1;33m.\u001b[0m\u001b[0mclasses\u001b[0m \u001b[1;33m=\u001b[0m \u001b[0mself\u001b[0m\u001b[1;33m.\u001b[0m\u001b[0mmap_list\u001b[0m\u001b[1;33m.\u001b[0m\u001b[0mget_item_type\u001b[0m\u001b[1;33m(\u001b[0m\u001b[1;34m\"TYPE_CLASS_DEF_ITEM\"\u001b[0m\u001b[1;33m)\u001b[0m\u001b[1;33m\u001b[0m\u001b[1;33m\u001b[0m\u001b[0m\n",
      "\u001b[1;32m~\\anaconda3\\lib\\site-packages\\androguard\\core\\bytecodes\\dvm.py\u001b[0m in \u001b[0;36m__init__\u001b[1;34m(self, cm, off, buff)\u001b[0m\n\u001b[0;32m   7538\u001b[0m \u001b[1;33m\u001b[0m\u001b[0m\n\u001b[0;32m   7539\u001b[0m         \u001b[1;32mfor\u001b[0m \u001b[0mmi\u001b[0m \u001b[1;32min\u001b[0m \u001b[0mordered\u001b[0m\u001b[1;33m:\u001b[0m\u001b[1;33m\u001b[0m\u001b[1;33m\u001b[0m\u001b[0m\n\u001b[1;32m-> 7540\u001b[1;33m             \u001b[0mmi\u001b[0m\u001b[1;33m.\u001b[0m\u001b[0mparse\u001b[0m\u001b[1;33m(\u001b[0m\u001b[1;33m)\u001b[0m\u001b[1;33m\u001b[0m\u001b[1;33m\u001b[0m\u001b[0m\n\u001b[0m\u001b[0;32m   7541\u001b[0m \u001b[1;33m\u001b[0m\u001b[0m\n\u001b[0;32m   7542\u001b[0m             \u001b[0mc_item\u001b[0m \u001b[1;33m=\u001b[0m \u001b[0mmi\u001b[0m\u001b[1;33m.\u001b[0m\u001b[0mget_item\u001b[0m\u001b[1;33m(\u001b[0m\u001b[1;33m)\u001b[0m\u001b[1;33m\u001b[0m\u001b[1;33m\u001b[0m\u001b[0m\n",
      "\u001b[1;32m~\\anaconda3\\lib\\site-packages\\androguard\\core\\bytecodes\\dvm.py\u001b[0m in \u001b[0;36mparse\u001b[1;34m(self)\u001b[0m\n\u001b[0;32m   7051\u001b[0m \u001b[1;33m\u001b[0m\u001b[0m\n\u001b[0;32m   7052\u001b[0m         \u001b[1;32melif\u001b[0m \u001b[0mTYPE_MAP_ITEM\u001b[0m\u001b[1;33m[\u001b[0m\u001b[0mself\u001b[0m\u001b[1;33m.\u001b[0m\u001b[0mtype\u001b[0m\u001b[1;33m]\u001b[0m \u001b[1;33m==\u001b[0m \u001b[1;34m\"TYPE_ANNOTATION_ITEM\"\u001b[0m\u001b[1;33m:\u001b[0m\u001b[1;33m\u001b[0m\u001b[1;33m\u001b[0m\u001b[0m\n\u001b[1;32m-> 7053\u001b[1;33m             \u001b[0mself\u001b[0m\u001b[1;33m.\u001b[0m\u001b[0mitem\u001b[0m \u001b[1;33m=\u001b[0m \u001b[1;33m[\u001b[0m\u001b[0mAnnotationItem\u001b[0m\u001b[1;33m(\u001b[0m\u001b[0mbuff\u001b[0m\u001b[1;33m,\u001b[0m \u001b[0mcm\u001b[0m\u001b[1;33m)\u001b[0m \u001b[1;32mfor\u001b[0m \u001b[0mi\u001b[0m \u001b[1;32min\u001b[0m \u001b[0mrange\u001b[0m\u001b[1;33m(\u001b[0m\u001b[1;36m0\u001b[0m\u001b[1;33m,\u001b[0m \u001b[0mself\u001b[0m\u001b[1;33m.\u001b[0m\u001b[0msize\u001b[0m\u001b[1;33m)\u001b[0m\u001b[1;33m]\u001b[0m\u001b[1;33m\u001b[0m\u001b[1;33m\u001b[0m\u001b[0m\n\u001b[0m\u001b[0;32m   7054\u001b[0m \u001b[1;33m\u001b[0m\u001b[0m\n\u001b[0;32m   7055\u001b[0m         \u001b[1;32melif\u001b[0m \u001b[0mTYPE_MAP_ITEM\u001b[0m\u001b[1;33m[\u001b[0m\u001b[0mself\u001b[0m\u001b[1;33m.\u001b[0m\u001b[0mtype\u001b[0m\u001b[1;33m]\u001b[0m \u001b[1;33m==\u001b[0m \u001b[1;34m\"TYPE_ANNOTATION_SET_ITEM\"\u001b[0m\u001b[1;33m:\u001b[0m\u001b[1;33m\u001b[0m\u001b[1;33m\u001b[0m\u001b[0m\n",
      "\u001b[1;32m~\\anaconda3\\lib\\site-packages\\androguard\\core\\bytecodes\\dvm.py\u001b[0m in \u001b[0;36m<listcomp>\u001b[1;34m(.0)\u001b[0m\n\u001b[0;32m   7051\u001b[0m \u001b[1;33m\u001b[0m\u001b[0m\n\u001b[0;32m   7052\u001b[0m         \u001b[1;32melif\u001b[0m \u001b[0mTYPE_MAP_ITEM\u001b[0m\u001b[1;33m[\u001b[0m\u001b[0mself\u001b[0m\u001b[1;33m.\u001b[0m\u001b[0mtype\u001b[0m\u001b[1;33m]\u001b[0m \u001b[1;33m==\u001b[0m \u001b[1;34m\"TYPE_ANNOTATION_ITEM\"\u001b[0m\u001b[1;33m:\u001b[0m\u001b[1;33m\u001b[0m\u001b[1;33m\u001b[0m\u001b[0m\n\u001b[1;32m-> 7053\u001b[1;33m             \u001b[0mself\u001b[0m\u001b[1;33m.\u001b[0m\u001b[0mitem\u001b[0m \u001b[1;33m=\u001b[0m \u001b[1;33m[\u001b[0m\u001b[0mAnnotationItem\u001b[0m\u001b[1;33m(\u001b[0m\u001b[0mbuff\u001b[0m\u001b[1;33m,\u001b[0m \u001b[0mcm\u001b[0m\u001b[1;33m)\u001b[0m \u001b[1;32mfor\u001b[0m \u001b[0mi\u001b[0m \u001b[1;32min\u001b[0m \u001b[0mrange\u001b[0m\u001b[1;33m(\u001b[0m\u001b[1;36m0\u001b[0m\u001b[1;33m,\u001b[0m \u001b[0mself\u001b[0m\u001b[1;33m.\u001b[0m\u001b[0msize\u001b[0m\u001b[1;33m)\u001b[0m\u001b[1;33m]\u001b[0m\u001b[1;33m\u001b[0m\u001b[1;33m\u001b[0m\u001b[0m\n\u001b[0m\u001b[0;32m   7054\u001b[0m \u001b[1;33m\u001b[0m\u001b[0m\n\u001b[0;32m   7055\u001b[0m         \u001b[1;32melif\u001b[0m \u001b[0mTYPE_MAP_ITEM\u001b[0m\u001b[1;33m[\u001b[0m\u001b[0mself\u001b[0m\u001b[1;33m.\u001b[0m\u001b[0mtype\u001b[0m\u001b[1;33m]\u001b[0m \u001b[1;33m==\u001b[0m \u001b[1;34m\"TYPE_ANNOTATION_SET_ITEM\"\u001b[0m\u001b[1;33m:\u001b[0m\u001b[1;33m\u001b[0m\u001b[1;33m\u001b[0m\u001b[0m\n",
      "\u001b[1;32m~\\anaconda3\\lib\\site-packages\\androguard\\core\\bytecodes\\dvm.py\u001b[0m in \u001b[0;36m__init__\u001b[1;34m(self, buff, cm)\u001b[0m\n\u001b[0;32m   1694\u001b[0m \u001b[1;33m\u001b[0m\u001b[0m\n\u001b[0;32m   1695\u001b[0m         \u001b[0mself\u001b[0m\u001b[1;33m.\u001b[0m\u001b[0mvisibility\u001b[0m \u001b[1;33m=\u001b[0m \u001b[0mget_byte\u001b[0m\u001b[1;33m(\u001b[0m\u001b[0mbuff\u001b[0m\u001b[1;33m)\u001b[0m\u001b[1;33m\u001b[0m\u001b[1;33m\u001b[0m\u001b[0m\n\u001b[1;32m-> 1696\u001b[1;33m         \u001b[0mself\u001b[0m\u001b[1;33m.\u001b[0m\u001b[0mannotation\u001b[0m \u001b[1;33m=\u001b[0m \u001b[0mEncodedAnnotation\u001b[0m\u001b[1;33m(\u001b[0m\u001b[0mbuff\u001b[0m\u001b[1;33m,\u001b[0m \u001b[0mcm\u001b[0m\u001b[1;33m)\u001b[0m\u001b[1;33m\u001b[0m\u001b[1;33m\u001b[0m\u001b[0m\n\u001b[0m\u001b[0;32m   1697\u001b[0m \u001b[1;33m\u001b[0m\u001b[0m\n\u001b[0;32m   1698\u001b[0m     \u001b[1;32mdef\u001b[0m \u001b[0mget_visibility\u001b[0m\u001b[1;33m(\u001b[0m\u001b[0mself\u001b[0m\u001b[1;33m)\u001b[0m\u001b[1;33m:\u001b[0m\u001b[1;33m\u001b[0m\u001b[1;33m\u001b[0m\u001b[0m\n",
      "\u001b[1;32m~\\anaconda3\\lib\\site-packages\\androguard\\core\\bytecodes\\dvm.py\u001b[0m in \u001b[0;36m__init__\u001b[1;34m(self, buff, cm)\u001b[0m\n\u001b[0;32m   1628\u001b[0m         \u001b[0mself\u001b[0m\u001b[1;33m.\u001b[0m\u001b[0melements\u001b[0m \u001b[1;33m=\u001b[0m \u001b[1;33m[\u001b[0m\u001b[1;33m]\u001b[0m\u001b[1;33m\u001b[0m\u001b[1;33m\u001b[0m\u001b[0m\n\u001b[0;32m   1629\u001b[0m         \u001b[1;32mfor\u001b[0m \u001b[0mi\u001b[0m \u001b[1;32min\u001b[0m \u001b[0mrange\u001b[0m\u001b[1;33m(\u001b[0m\u001b[1;36m0\u001b[0m\u001b[1;33m,\u001b[0m \u001b[0mself\u001b[0m\u001b[1;33m.\u001b[0m\u001b[0msize\u001b[0m\u001b[1;33m)\u001b[0m\u001b[1;33m:\u001b[0m\u001b[1;33m\u001b[0m\u001b[1;33m\u001b[0m\u001b[0m\n\u001b[1;32m-> 1630\u001b[1;33m             \u001b[0mself\u001b[0m\u001b[1;33m.\u001b[0m\u001b[0melements\u001b[0m\u001b[1;33m.\u001b[0m\u001b[0mappend\u001b[0m\u001b[1;33m(\u001b[0m\u001b[0mAnnotationElement\u001b[0m\u001b[1;33m(\u001b[0m\u001b[0mbuff\u001b[0m\u001b[1;33m,\u001b[0m \u001b[0mcm\u001b[0m\u001b[1;33m)\u001b[0m\u001b[1;33m)\u001b[0m\u001b[1;33m\u001b[0m\u001b[1;33m\u001b[0m\u001b[0m\n\u001b[0m\u001b[0;32m   1631\u001b[0m \u001b[1;33m\u001b[0m\u001b[0m\n\u001b[0;32m   1632\u001b[0m     \u001b[1;32mdef\u001b[0m \u001b[0mget_type_idx\u001b[0m\u001b[1;33m(\u001b[0m\u001b[0mself\u001b[0m\u001b[1;33m)\u001b[0m\u001b[1;33m:\u001b[0m\u001b[1;33m\u001b[0m\u001b[1;33m\u001b[0m\u001b[0m\n",
      "\u001b[1;32m~\\anaconda3\\lib\\site-packages\\androguard\\core\\bytecodes\\dvm.py\u001b[0m in \u001b[0;36m__init__\u001b[1;34m(self, buff, cm)\u001b[0m\n\u001b[0;32m   1576\u001b[0m \u001b[1;33m\u001b[0m\u001b[0m\n\u001b[0;32m   1577\u001b[0m         \u001b[0mself\u001b[0m\u001b[1;33m.\u001b[0m\u001b[0mname_idx\u001b[0m \u001b[1;33m=\u001b[0m \u001b[0mreaduleb128\u001b[0m\u001b[1;33m(\u001b[0m\u001b[0mbuff\u001b[0m\u001b[1;33m)\u001b[0m\u001b[1;33m\u001b[0m\u001b[1;33m\u001b[0m\u001b[0m\n\u001b[1;32m-> 1578\u001b[1;33m         \u001b[0mself\u001b[0m\u001b[1;33m.\u001b[0m\u001b[0mvalue\u001b[0m \u001b[1;33m=\u001b[0m \u001b[0mEncodedValue\u001b[0m\u001b[1;33m(\u001b[0m\u001b[0mbuff\u001b[0m\u001b[1;33m,\u001b[0m \u001b[0mcm\u001b[0m\u001b[1;33m)\u001b[0m\u001b[1;33m\u001b[0m\u001b[1;33m\u001b[0m\u001b[0m\n\u001b[0m\u001b[0;32m   1579\u001b[0m \u001b[1;33m\u001b[0m\u001b[0m\n\u001b[0;32m   1580\u001b[0m     \u001b[1;32mdef\u001b[0m \u001b[0mget_name_idx\u001b[0m\u001b[1;33m(\u001b[0m\u001b[0mself\u001b[0m\u001b[1;33m)\u001b[0m\u001b[1;33m:\u001b[0m\u001b[1;33m\u001b[0m\u001b[1;33m\u001b[0m\u001b[0m\n",
      "\u001b[1;32m~\\anaconda3\\lib\\site-packages\\androguard\\core\\bytecodes\\dvm.py\u001b[0m in \u001b[0;36m__init__\u001b[1;34m(self, buff, cm)\u001b[0m\n\u001b[0;32m   1479\u001b[0m             id, self.raw_value = self._getintvalue(buff.read(self.value_arg +\n\u001b[0;32m   1480\u001b[0m                                                              1))\n\u001b[1;32m-> 1481\u001b[1;33m             \u001b[0mself\u001b[0m\u001b[1;33m.\u001b[0m\u001b[0mvalue\u001b[0m \u001b[1;33m=\u001b[0m \u001b[0mcm\u001b[0m\u001b[1;33m.\u001b[0m\u001b[0mget_raw_string\u001b[0m\u001b[1;33m(\u001b[0m\u001b[0mid\u001b[0m\u001b[1;33m)\u001b[0m\u001b[1;33m\u001b[0m\u001b[1;33m\u001b[0m\u001b[0m\n\u001b[0m\u001b[0;32m   1482\u001b[0m         \u001b[1;32melif\u001b[0m \u001b[0mself\u001b[0m\u001b[1;33m.\u001b[0m\u001b[0mvalue_type\u001b[0m \u001b[1;33m==\u001b[0m \u001b[0mVALUE_TYPE\u001b[0m\u001b[1;33m:\u001b[0m\u001b[1;33m\u001b[0m\u001b[1;33m\u001b[0m\u001b[0m\n\u001b[0;32m   1483\u001b[0m             id, self.raw_value = self._getintvalue(buff.read(self.value_arg +\n",
      "\u001b[1;32m~\\anaconda3\\lib\\site-packages\\androguard\\core\\bytecodes\\dvm.py\u001b[0m in \u001b[0;36mget_raw_string\u001b[1;34m(self, idx)\u001b[0m\n\u001b[0;32m   7315\u001b[0m \u001b[1;33m\u001b[0m\u001b[0m\n\u001b[0;32m   7316\u001b[0m         \u001b[1;32mtry\u001b[0m\u001b[1;33m:\u001b[0m\u001b[1;33m\u001b[0m\u001b[1;33m\u001b[0m\u001b[0m\n\u001b[1;32m-> 7317\u001b[1;33m             \u001b[1;32mreturn\u001b[0m \u001b[0mself\u001b[0m\u001b[1;33m.\u001b[0m\u001b[0m__strings_off\u001b[0m\u001b[1;33m[\u001b[0m\u001b[0moff\u001b[0m\u001b[1;33m]\u001b[0m\u001b[1;33m.\u001b[0m\u001b[0mget\u001b[0m\u001b[1;33m(\u001b[0m\u001b[1;33m)\u001b[0m\u001b[1;33m\u001b[0m\u001b[1;33m\u001b[0m\u001b[0m\n\u001b[0m\u001b[0;32m   7318\u001b[0m         \u001b[1;32mexcept\u001b[0m \u001b[0mKeyError\u001b[0m\u001b[1;33m:\u001b[0m\u001b[1;33m\u001b[0m\u001b[1;33m\u001b[0m\u001b[0m\n\u001b[0;32m   7319\u001b[0m             \u001b[0mlog\u001b[0m\u001b[1;33m.\u001b[0m\u001b[0mwarning\u001b[0m\u001b[1;33m(\u001b[0m\u001b[1;34m\"unknown string item @ 0x%x(%d)\"\u001b[0m \u001b[1;33m%\u001b[0m \u001b[1;33m(\u001b[0m\u001b[0moff\u001b[0m\u001b[1;33m,\u001b[0m \u001b[0midx\u001b[0m\u001b[1;33m)\u001b[0m\u001b[1;33m)\u001b[0m\u001b[1;33m\u001b[0m\u001b[1;33m\u001b[0m\u001b[0m\n",
      "\u001b[1;32m~\\anaconda3\\lib\\site-packages\\androguard\\core\\bytecodes\\dvm.py\u001b[0m in \u001b[0;36mget\u001b[1;34m(self)\u001b[0m\n\u001b[0;32m   1874\u001b[0m             \u001b[1;32mraise\u001b[0m \u001b[0mValueError\u001b[0m\u001b[1;33m(\u001b[0m\u001b[1;34m\"UTF16 Length does not match!\"\u001b[0m\u001b[1;33m)\u001b[0m\u001b[1;33m\u001b[0m\u001b[1;33m\u001b[0m\u001b[0m\n\u001b[0;32m   1875\u001b[0m         \u001b[1;31m# log.debug(\"Decoding UTF16 string with IDX {}, utf16 length {} and hexdata '{}'.\".format(self.offset, self.utf16_size, binascii.hexlify(self.data)))\u001b[0m\u001b[1;33m\u001b[0m\u001b[1;33m\u001b[0m\u001b[1;33m\u001b[0m\u001b[0m\n\u001b[1;32m-> 1876\u001b[1;33m         \u001b[1;32mreturn\u001b[0m \u001b[0mmutf8\u001b[0m\u001b[1;33m.\u001b[0m\u001b[0mpatch_string\u001b[0m\u001b[1;33m(\u001b[0m\u001b[0ms\u001b[0m\u001b[1;33m)\u001b[0m\u001b[1;33m\u001b[0m\u001b[1;33m\u001b[0m\u001b[0m\n\u001b[0m\u001b[0;32m   1877\u001b[0m \u001b[1;33m\u001b[0m\u001b[0m\n\u001b[0;32m   1878\u001b[0m     \u001b[1;32mdef\u001b[0m \u001b[0mshow\u001b[0m\u001b[1;33m(\u001b[0m\u001b[0mself\u001b[0m\u001b[1;33m)\u001b[0m\u001b[1;33m:\u001b[0m\u001b[1;33m\u001b[0m\u001b[1;33m\u001b[0m\u001b[0m\n",
      "\u001b[1;32m~\\anaconda3\\lib\\site-packages\\androguard\\core\\bytecodes\\mutf8.py\u001b[0m in \u001b[0;36mpatch_string\u001b[1;34m(s)\u001b[0m\n\u001b[0;32m    118\u001b[0m                 \u001b[1;31m# Lonely high surrogate\u001b[0m\u001b[1;33m\u001b[0m\u001b[1;33m\u001b[0m\u001b[1;33m\u001b[0m\u001b[0m\n\u001b[0;32m    119\u001b[0m                 \u001b[0mres\u001b[0m \u001b[1;33m+=\u001b[0m \u001b[1;34mu\"\\\\u{:04x}\"\u001b[0m\u001b[1;33m.\u001b[0m\u001b[0mformat\u001b[0m\u001b[1;33m(\u001b[0m\u001b[0mord\u001b[0m\u001b[1;33m(\u001b[0m\u001b[0mc\u001b[0m\u001b[1;33m)\u001b[0m\u001b[1;33m)\u001b[0m\u001b[1;33m\u001b[0m\u001b[1;33m\u001b[0m\u001b[0m\n\u001b[1;32m--> 120\u001b[1;33m         \u001b[1;32melif\u001b[0m \u001b[1;33m(\u001b[0m\u001b[0mord\u001b[0m\u001b[1;33m(\u001b[0m\u001b[0mc\u001b[0m\u001b[1;33m)\u001b[0m \u001b[1;33m>>\u001b[0m \u001b[1;36m10\u001b[0m\u001b[1;33m)\u001b[0m \u001b[1;33m==\u001b[0m \u001b[1;36m0b110111\u001b[0m\u001b[1;33m:\u001b[0m\u001b[1;33m\u001b[0m\u001b[1;33m\u001b[0m\u001b[0m\n\u001b[0m\u001b[0;32m    121\u001b[0m             \u001b[1;31m# Lonely low surrogate\u001b[0m\u001b[1;33m\u001b[0m\u001b[1;33m\u001b[0m\u001b[1;33m\u001b[0m\u001b[0m\n\u001b[0;32m    122\u001b[0m             \u001b[0mres\u001b[0m \u001b[1;33m+=\u001b[0m \u001b[1;34mu\"\\\\u{:04x}\"\u001b[0m\u001b[1;33m.\u001b[0m\u001b[0mformat\u001b[0m\u001b[1;33m(\u001b[0m\u001b[0mord\u001b[0m\u001b[1;33m(\u001b[0m\u001b[0mc\u001b[0m\u001b[1;33m)\u001b[0m\u001b[1;33m)\u001b[0m\u001b[1;33m\u001b[0m\u001b[1;33m\u001b[0m\u001b[0m\n",
      "\u001b[1;31mKeyboardInterrupt\u001b[0m: "
     ]
    }
   ],
   "source": [
    "import re\n",
    "from androguard.core.bytecodes.apk import APK\n",
    "from androguard.core.bytecodes.dvm import DalvikVMFormat\n",
    "import glob\n",
    "import os\n",
    "from pathlib import Path\n",
    "# Bir klasördeki tüm apk dosyalarını bulan fonksiyon\n",
    "def find_all_apks(directory):\n",
    "    apk_files = [] # Apk dosyalarının yolu için bir dizi\n",
    "    for path in Path(directory).rglob('*.apk'): # Klasördeki Apk dosyalarını bulan döngü\n",
    "        if path.is_file(): # Kontrol\n",
    "            apk_files.append(path) # Eğer Apk dosyası ise diziye ata\n",
    "    return apk_files # diziyi döndür\n",
    "directory_path = \"C:\\\\Users\\\\hakan\\\\Desktop\\\\apks\\\\ALL\" # klasör yolu\n",
    "apk_files = find_all_apks(directory_path) # bu değişkene yukarıdaki fonksiyonun sonucunu ata\n",
    "def check_all_apks(apk_files): # Bir klasördeki bütün Apk dosyalarında karıştırma olup olmadığını kontrol eden fonk.\n",
    "    x = 0\n",
    "    for apk in apk_files: # gönderdiğimiz parametredeki her Apk için\n",
    "        apk_file = APK(apk) # Apk yolu sayesinde Apk nesnesi oluştur\n",
    "        c = 0 # Kontrol değişkeni\n",
    "        x = x + 1\n",
    "        for dex in apk_file.get_all_dex():\n",
    "            vm = DalvikVMFormat(dex)\n",
    "            for cls in vm.get_classes():\n",
    "                class_name = cls.get_name()\n",
    "                #print(class_name)\n",
    "                if re.search(r'/[a-z];$', class_name):\n",
    "                    c += 1\n",
    "        if c > 0:\n",
    "            print(x, \" evet\")\n",
    "        else: \n",
    "            print(x, \" hayır\")\n",
    "\n",
    "check_all_apks(apk_files)"
   ]
  },
  {
   "cell_type": "code",
   "execution_count": 11,
   "id": "971761bb",
   "metadata": {},
   "outputs": [
    {
     "name": "stderr",
     "output_type": "stream",
     "text": [
      "Requested API level 33 is larger than maximum we have, returning API level 28 instead.\n"
     ]
    },
    {
     "name": "stdout",
     "output_type": "stream",
     "text": [
      "Verilen APK dosyasında kod karıştırma bulunmaktadır!!!\n"
     ]
    }
   ],
   "source": [
    "import re\n",
    "from androguard.core.bytecodes.apk import APK\n",
    "from androguard.core.bytecodes.dvm import DalvikVMFormat\n",
    "import glob\n",
    "import os\n",
    "from pathlib import Path\n",
    "\n",
    "# Tek bir APK dosyasında kod karıştırma olup olmadığını kontrol eden fonksiyon\n",
    "def check_an_apk(apk_path):\n",
    "    apk = APK(apk_path) # APK nın dosya yolunu vererek APK nesnesi oluşturulur\n",
    "    count = 0 # Kontrol değişkeni\n",
    "    for dex in apk.get_all_dex(): # class.dex dosyası içerisinden dosyalara ulaşma\n",
    "        vm = DalvikVMFormat(dex)\n",
    "        for cls in vm.get_classes(): # tüm dosyaların dosya yolunu alma\n",
    "            class_name = cls.get_name()\n",
    "            #print(cls)\n",
    "            if re.search(r'/[a-z];$', class_name): # class isimlerine göre kontrol etme\n",
    "                count += 1\n",
    "    if count > 0:\n",
    "        print(\"Verilen APK dosyasında kod karıştırma bulunmaktadır!!!\")\n",
    "    else:\n",
    "        print(\"Verilen APK dosyasında kod karıştırma bulunmamaktadır!!!\")\n",
    "        \n",
    "apk_path = \"C:\\\\Users\\\\hakan\\\\Desktop\\\\apks\\\\YES\\\\com.github.xfalcon.vhosts_42.apk\" # YES\n",
    "#apk_path = \"C:\\\\Users\\hakan\\\\Desktop\\\\apks\\\\NO\\\\com.caydey.ffshare_12.apk\" # NO\n",
    "#apk_path = \"C:\\\\Users\\hakan\\\\Desktop\\\\net.i2p.android.router_4745278.apk\" # YES\n",
    "#apk_path = \"C:\\\\Users\\\\hakan\\\\AndroidStudioProjects\\\\karistirma\\\\app\\\\build\\\\outputs\\\\apk\\\\release\\\\app-release-unsigned.apk\" # Android Studio\n",
    "\n",
    "check_an_apk(apk_path)"
   ]
  },
  {
   "cell_type": "code",
   "execution_count": null,
   "id": "e965a682",
   "metadata": {},
   "outputs": [],
   "source": []
  }
 ],
 "metadata": {
  "kernelspec": {
   "display_name": "Python 3",
   "language": "python",
   "name": "python3"
  },
  "language_info": {
   "codemirror_mode": {
    "name": "ipython",
    "version": 3
   },
   "file_extension": ".py",
   "mimetype": "text/x-python",
   "name": "python",
   "nbconvert_exporter": "python",
   "pygments_lexer": "ipython3",
   "version": "3.8.8"
  }
 },
 "nbformat": 4,
 "nbformat_minor": 5
}
